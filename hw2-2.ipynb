{
 "cells": [
  {
   "cell_type": "code",
   "execution_count": 4,
   "id": "dc12309b-bce7-482c-bb90-39a01895b9f3",
   "metadata": {},
   "outputs": [
    {
     "name": "stdout",
     "output_type": "stream",
     "text": [
      "Initial Gradebook:\n",
      "[['physics', 98], ['calculus', 97], ['poetry', 85], ['history', 88]]\n",
      "\n",
      "After Adding Two More Subjects:\n",
      "[['physics', 98], ['calculus', 97], ['poetry', 85], ['history', 88], ['computer science', 100], ['visual arts', 93]]\n",
      "\n",
      "After Grade Adjustments:\n",
      "[['physics', 98], ['calculus', 97], ['poetry', 'Pass'], ['history', 88], ['computer science', 100], ['visual arts', 98]]\n",
      "\n",
      "Full Gradebook:\n",
      "[['politics', 80], ['latin', 96], ['dance', 97], ['architecture', 65], ['physics', 98], ['calculus', 97], ['poetry', 'Pass'], ['history', 88], ['computer science', 100], ['visual arts', 98]]\n"
     ]
    }
   ],
   "source": [
    "#과제 2 gradebook\n",
    "\n",
    "subjects = [\"physics\", \"calculus\", \"poetry\", \"history\"]\n",
    "grades = [98, 97, 85, 88]\n",
    "\n",
    "gradebook = [\n",
    "    [\"physics\", 98],\n",
    "    [\"calculus\", 97],\n",
    "    [\"poetry\", 85],\n",
    "    [\"history\", 88]]\n",
    "print(\"Initial Gradebook:\")\n",
    "print(gradebook)\n",
    "\n",
    "gradebook.append([\"computer science\", 100])\n",
    "\n",
    "# 시각 예술 과목 추가\n",
    "gradebook.append([\"visual arts\", 93])\n",
    "\n",
    "print(\"\\nAfter Adding Two More Subjects:\")\n",
    "print(gradebook)\n",
    "\n",
    "gradebook[-1][1] += 5  # 마지막 점수에 5 더하기\n",
    "\n",
    "gradebook[2].remove(85)\n",
    "gradebook[2].append(\"Pass\")\n",
    "\n",
    "print(\"\\nAfter Grade Adjustments:\")\n",
    "print(gradebook)\n",
    "\n",
    "# 지난 학기 성적표\n",
    "last_semester_gradebook = [\n",
    "    [\"politics\", 80],\n",
    "    [\"latin\", 96],\n",
    "    [\"dance\", 97],\n",
    "    [\"architecture\", 65]\n",
    "]\n",
    "\n",
    "# 전체 성적표 \n",
    "full_gradebook = last_semester_gradebook + gradebook\n",
    "\n",
    "print(\"\\nFull Gradebook:\")\n",
    "print(full_gradebook)"
   ]
  },
  {
   "cell_type": "code",
   "execution_count": null,
   "id": "d119d6a9-4f4f-4ee7-812f-47ee6be7deac",
   "metadata": {},
   "outputs": [],
   "source": []
  }
 ],
 "metadata": {
  "kernelspec": {
   "display_name": "Python 3 (ipykernel)",
   "language": "python",
   "name": "python3"
  },
  "language_info": {
   "codemirror_mode": {
    "name": "ipython",
    "version": 3
   },
   "file_extension": ".py",
   "mimetype": "text/x-python",
   "name": "python",
   "nbconvert_exporter": "python",
   "pygments_lexer": "ipython3",
   "version": "3.12.7"
  }
 },
 "nbformat": 4,
 "nbformat_minor": 5
}
