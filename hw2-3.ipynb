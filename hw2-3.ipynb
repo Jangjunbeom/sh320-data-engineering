{
 "cells": [
  {
   "cell_type": "code",
   "execution_count": 1,
   "id": "57fccf56-1003-433e-95ac-ac0b3627e9c9",
   "metadata": {},
   "outputs": [
    {
     "name": "stdout",
     "output_type": "stream",
     "text": [
      "Average price is 31.875\n",
      "New prices: [25, 20, 35, 15, 15, 30, 45, 30]\n",
      "Total revenue: 1085\n",
      "Average daily revenue is 155.0\n",
      "Cuts under $30: ['bouffant', 'pixie', 'crew', 'bowl']\n"
     ]
    }
   ],
   "source": [
    "# 데이터 입력\n",
    "hairstyles = [\"bouffant\", \"pixie\", \"dreadlocks\", \"crew\", \"bowl\", \"bob\", \"mohawk\", \"flattop\"]\n",
    "prices = [30, 25, 40, 20, 20, 35, 50, 35]\n",
    "last_week = [2, 3, 5, 8, 4, 4, 6, 2]\n",
    "\n",
    "# 평균 \n",
    "total_price = 0\n",
    "for price in prices:\n",
    "    total_price += price\n",
    "average_price = total_price / len(prices)\n",
    "print(\"Average price is\", average_price)\n",
    "\n",
    "#가격 5 내림\n",
    "new_prices = [price - 5 for price in prices]\n",
    "print(\"New prices:\", new_prices) \n",
    "\n",
    "#총수익\n",
    "total_revenue = 0\n",
    "for i in range(len(hairstyles)):\n",
    "    total_revenue += prices[i] * last_week[i]\n",
    "print(\"Total revenue:\", total_revenue)\n",
    "\n",
    "#하루 평균 수익\n",
    "average_daily_revenue = total_revenue / 7\n",
    "print(\"Average daily revenue is\", average_daily_revenue)\n",
    "\n",
    "# 5. 30달러 이하의 할인 헤어컷 목록\n",
    "cuts_under_30 = [hairstyles[i] for i in range(len(new_prices)) if new_prices[i] < 30]\n",
    "print(\"Cuts under $30:\", cuts_under_30)"
   ]
  },
  {
   "cell_type": "code",
   "execution_count": null,
   "id": "3aab476b-8640-4ec7-896d-ffcb5ff5e3d5",
   "metadata": {},
   "outputs": [],
   "source": []
  }
 ],
 "metadata": {
  "kernelspec": {
   "display_name": "Python 3 (ipykernel)",
   "language": "python",
   "name": "python3"
  },
  "language_info": {
   "codemirror_mode": {
    "name": "ipython",
    "version": 3
   },
   "file_extension": ".py",
   "mimetype": "text/x-python",
   "name": "python",
   "nbconvert_exporter": "python",
   "pygments_lexer": "ipython3",
   "version": "3.12.7"
  }
 },
 "nbformat": 4,
 "nbformat_minor": 5
}
