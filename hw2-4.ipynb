{
 "cells": [
  {
   "cell_type": "code",
   "execution_count": 3,
   "id": "537bad35-f8ac-4167-8a95-693d6cc475d8",
   "metadata": {},
   "outputs": [
    {
     "name": "stdout",
     "output_type": "stream",
     "text": [
      "당신의 조선시대 이름은: 장칠삼\n"
     ]
    }
   ],
   "source": [
    "def get_my_chosun_name(family_name, month, day):\n",
    "    # 월별 첫 글자 리스트 (1월 ~ 12월)\n",
    "    first_name = ['쌍', '쇠', '복', '돌', '팽', '육', '쌍', '개', '칠', '갑', '삼', '방']\n",
    "    \n",
    "    # 일별 두 번째 글자 리스트 (1일 ~ 31일)\n",
    "    last_name = ['봉', '구', '욕', '포', '똥', '삼', '식', '석', '놈', '님',\n",
    "                 '년', '돌', '단', '득', '방', '질', '장', '걸', '래', '룡',\n",
    "                 '동', '순', '자', '박', '창', '언', '것', '포', '만', '단', '국']\n",
    "    \n",
    "    # 조선시대 이름 생성\n",
    "    chosun_name = family_name + first_name[month - 1] + last_name[day - 1]\n",
    "    \n",
    "    return chosun_name\n",
    "\n",
    "# 내 생일 9월 6일\n",
    "name = get_my_chosun_name('장', 9, 6)\n",
    "print(\"당신의 조선시대 이름은:\", name)"
   ]
  },
  {
   "cell_type": "code",
   "execution_count": null,
   "id": "6b1e1dc6-61b2-431c-af26-e0501ce33ce1",
   "metadata": {},
   "outputs": [],
   "source": []
  }
 ],
 "metadata": {
  "kernelspec": {
   "display_name": "Python 3 (ipykernel)",
   "language": "python",
   "name": "python3"
  },
  "language_info": {
   "codemirror_mode": {
    "name": "ipython",
    "version": 3
   },
   "file_extension": ".py",
   "mimetype": "text/x-python",
   "name": "python",
   "nbconvert_exporter": "python",
   "pygments_lexer": "ipython3",
   "version": "3.12.7"
  }
 },
 "nbformat": 4,
 "nbformat_minor": 5
}
